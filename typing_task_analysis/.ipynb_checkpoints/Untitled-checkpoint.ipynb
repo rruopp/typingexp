{
 "cells": [
  {
   "cell_type": "code",
   "execution_count": 58,
   "id": "ef0e4f1f-cbff-482f-8369-7adce3e718f1",
   "metadata": {},
   "outputs": [
    {
     "name": "stderr",
     "output_type": "stream",
     "text": [
      "Generating audio cues: 100%|████████████████████| 14/14 [00:02<00:00,  5.89it/s]\n"
     ]
    }
   ],
   "source": [
    "import os\n",
    "from tqdm import tqdm\n",
    "from gtts import gTTS\n",
    "import ffmpeg\n",
    "from pydub import AudioSegment\n",
    "\n",
    "\n",
    "# Define your yoga routine\n",
    "routine = [\n",
    "    (\"Happy baby\", 90),\n",
    "    (\"Cat cows\", 90),\n",
    "    (\"Hip internal rotation frog pose\", 120),\n",
    "    (\"Hip extension end-range expansion\", 120),\n",
    "    (\"Pancake with side stretch\", 150),\n",
    "    (\"Knee over knee bend, left side\", 90),\n",
    "    (\"Cossack squat, left side\", 90),\n",
    "    (\"Lunge with thoracic rotations, left side\", 90),\n",
    "    (\"Knee over knee bend, right side\", 90),\n",
    "    (\"Cossack squat, right side\", 90),\n",
    "    (\"Lunge with thoracic rotations, right side\", 90),\n",
    "    (\"Cobra pose\", 90),\n",
    "    (\"Puppy pose\", 90),\n",
    "    (\"Child's pose\", 120)\n",
    "]\n",
    "\n",
    "# Make a directory for temporary audio files\n",
    "os.makedirs(\"yoga_cues\", exist_ok=True)\n",
    "os.chdir(r'/Users/rubi/Desktop/Github/typingexp/typing_task_analysis/yoga_cues')\n",
    "\n",
    "# tts = gTTS('hello')\n",
    "# tts.save('yoga_cues/hello.mp3')\n",
    "\n",
    "# Queue all text-to-speech files\n",
    "file_paths = []\n",
    "for i, (pose, duration) in tqdm(enumerate(routine, start=1), total=len(routine), desc=\"Generating audio cues\"):\n",
    "    text = f\"Now, move into {pose}. Hold for {duration // 60} minutes and {duration % 60} seconds.\" if duration >= 60 else f\"Now, move into {pose}. Hold for {duration} seconds.\"\n",
    "    file_path = f\"pose_{i}.mp3\"\n",
    "    file_paths.append(file_path)\n",
    "    tts = gTTS(text)\n",
    "    tts.save(file_path)\n",
    "\n"
   ]
  },
  {
   "cell_type": "code",
   "execution_count": 66,
   "id": "3a9bef9f-c066-413d-94b9-812c678d23f8",
   "metadata": {},
   "outputs": [
    {
     "name": "stdout",
     "output_type": "stream",
     "text": [
      "['pose_1.mp3', 'pose_2.mp3', 'pose_3.mp3', 'pose_4.mp3', 'pose_5.mp3', 'pose_6.mp3', 'pose_7.mp3', 'pose_8.mp3', 'pose_9.mp3', 'pose_10.mp3', 'pose_11.mp3', 'pose_12.mp3', 'pose_13.mp3', 'pose_14.mp3']\n"
     ]
    },
    {
     "ename": "NameError",
     "evalue": "name 'mp3' is not defined",
     "output_type": "error",
     "traceback": [
      "\u001b[0;31m---------------------------------------------------------------------------\u001b[0m",
      "\u001b[0;31mNameError\u001b[0m                                 Traceback (most recent call last)",
      "Cell \u001b[0;32mIn[66], line 34\u001b[0m\n\u001b[1;32m     32\u001b[0m final_audio \u001b[38;5;241m=\u001b[39m AudioSegment\u001b[38;5;241m.\u001b[39msilent(duration\u001b[38;5;241m=\u001b[39m\u001b[38;5;241m0\u001b[39m)\n\u001b[1;32m     33\u001b[0m \u001b[38;5;28;01mfor\u001b[39;00m file_path \u001b[38;5;129;01min\u001b[39;00m file_paths:\n\u001b[0;32m---> 34\u001b[0m     cue \u001b[38;5;241m=\u001b[39m AudioSegment\u001b[38;5;241m.\u001b[39mfrom_file(file_path, \u001b[38;5;28mformat\u001b[39m\u001b[38;5;241m=\u001b[39m\u001b[43mmp3\u001b[49m)\n\u001b[1;32m     35\u001b[0m     \u001b[38;5;28;01mfor\u001b[39;00m i, (pose, duration) \u001b[38;5;129;01min\u001b[39;00m \u001b[38;5;28menumerate\u001b[39m(routine):\n\u001b[1;32m     36\u001b[0m         \u001b[38;5;28mprint\u001b[39m(duration)\n",
      "\u001b[0;31mNameError\u001b[0m: name 'mp3' is not defined"
     ]
    }
   ],
   "source": [
    "print(file_paths)\n",
    "\n",
    "# save_dir = r'/Users/rubi/Desktop/Github/typingexp/typing_task_analysis/yoga_cues'\n",
    "\n",
    "# ### concatenating all go-pro videos of interest into one\n",
    "# f = open('routine_path_file.txt', 'w')\n",
    "# for filename in os.scandir(save_dir):\n",
    "#     if file.__contains__('pose'):\n",
    "#         f.write('file \\'' + filename.path + '\\'')\n",
    "#         f.write('\\n')\n",
    "# f.close()\n",
    "\n",
    "# concatenate = 'ffmpeg -f concat -safe 0 -i routine_path_file.txt -c copy %s'  % ('full_routine')\n",
    "# os.system(concatenate) ## output of 0 means it worked :) \n",
    "# res = []\n",
    "# for file in os.listdir(save_dir):\n",
    "#     if file.__contains__('pose'):\n",
    "#         res.append(file)\n",
    "# print(len(res))\n",
    "\n",
    "# print('fuck')\n",
    "# f = open('clip_path_file.txt', 'w')\n",
    "# for filename in res:\n",
    "#         f.write('file \\'' + save_dir + '\\\\' + filename + '\\'')\n",
    "#         f.write('\\n')\n",
    "# f.close()\n",
    "\n",
    "# concatenate = 'ffmpeg -f concat -safe 0 -i clip_path_file.txt -c copy %s'  % ('full_routine')\n",
    "# os.system(concatenate) ## output of 0 means it worked :)\n",
    "\n",
    "# Stitch together all cues with 1 second pause in between\n",
    "final_audio = AudioSegment.silent(duration=0)\n",
    "for file_path in file_paths:\n",
    "    cue = AudioSegment.from_file(file_path, format=mp3)\n",
    "    for i, (pose, duration) in enumerate(routine):\n",
    "        print(duration)\n",
    "    final_audio += cue + AudioSegment.silent(duration=1000)\n",
    "\n",
    "# Export the final audio file\n",
    "# final_audio.export(\"yoga_pose_audio_routine.mp3\", format=\"mp3\")\n",
    "\n",
    "# print(\"✅ Yoga cue audio saved as 'yoga_pose_audio_routine.mp3'\")\n"
   ]
  },
  {
   "cell_type": "code",
   "execution_count": 43,
   "id": "12e39099-f797-4f37-aa9d-80efb4764643",
   "metadata": {},
   "outputs": [
    {
     "name": "stdout",
     "output_type": "stream",
     "text": [
      "90\n",
      "90\n",
      "120\n",
      "120\n",
      "150\n",
      "90\n",
      "90\n",
      "90\n",
      "90\n",
      "90\n",
      "90\n",
      "90\n",
      "90\n",
      "120\n"
     ]
    }
   ],
   "source": [
    "for i, (pose, duration) in enumerate(routine):\n",
    "    print(duration)"
   ]
  },
  {
   "cell_type": "code",
   "execution_count": null,
   "id": "67d04d12-37a1-45eb-90e7-0e6deba7af5b",
   "metadata": {},
   "outputs": [],
   "source": []
  }
 ],
 "metadata": {
  "kernelspec": {
   "display_name": "Python 3 (ipykernel)",
   "language": "python",
   "name": "python3"
  },
  "language_info": {
   "codemirror_mode": {
    "name": "ipython",
    "version": 3
   },
   "file_extension": ".py",
   "mimetype": "text/x-python",
   "name": "python",
   "nbconvert_exporter": "python",
   "pygments_lexer": "ipython3",
   "version": "3.12.2"
  }
 },
 "nbformat": 4,
 "nbformat_minor": 5
}
