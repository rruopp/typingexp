{
 "cells": [
  {
   "cell_type": "code",
   "execution_count": 8,
   "id": "ef0e4f1f-cbff-482f-8369-7adce3e718f1",
   "metadata": {},
   "outputs": [
    {
     "name": "stderr",
     "output_type": "stream",
     "text": [
      "Generating audio cues: 100%|████████████████████| 14/14 [00:02<00:00,  6.21it/s]\n"
     ]
    }
   ],
   "source": [
    "import os\n",
    "from tqdm import tqdm\n",
    "from gtts import gTTS\n",
    "import ffmpeg\n",
    "from pydub import AudioSegment\n",
    "\n",
    "\n",
    "# Define your yoga routine\n",
    "routine = [\n",
    "    (\"Happy baby\", 90),\n",
    "    (\"Cat cows\", 90),\n",
    "    (\"Hip internal rotation frog pose\", 120),\n",
    "    (\"Hip extension end-range expansion\", 120),\n",
    "    (\"Pancake with side stretch\", 150),\n",
    "    (\"Knee over knee bend, left side\", 90),\n",
    "    (\"Cossack squat, left side\", 90),\n",
    "    (\"Lunge with thoracic rotations, left side\", 90),\n",
    "    (\"Knee over knee bend, right side\", 90),\n",
    "    (\"Cossack squat, right side\", 90),\n",
    "    (\"Lunge with thoracic rotations, right side\", 90),\n",
    "    (\"Cobra pose\", 90),\n",
    "    (\"Puppy pose\", 90),\n",
    "    (\"Child's pose\", 120)\n",
    "]\n",
    "\n",
    "# Make a directory for temporary audio files\n",
    "os.makedirs(\"yoga_cues\", exist_ok=True)\n",
    "os.chdir(r'/Users/rubi/Desktop/Github/typingexp/typing_task_analysis/yoga_cues')\n",
    "\n",
    "# tts = gTTS('hello')\n",
    "# tts.save('yoga_cues/hello.mp3')\n",
    "\n",
    "# Queue all text-to-speech files\n",
    "file_paths = []\n",
    "for i, (pose, duration) in tqdm(enumerate(routine, start=1), total=len(routine), desc=\"Generating audio cues\"):\n",
    "    text = f\"Now, move into {pose}. Hold for {duration // 60} minutes and {duration % 60} seconds.\" if duration >= 60 else f\"Now, move into {pose}. Hold for {duration} seconds.\"\n",
    "    file_path = f\"pose_{i}.wav\"\n",
    "    file_paths.append(file_path)\n",
    "    tts = gTTS(text)\n",
    "    tts.save(file_path)"
   ]
  },
  {
   "cell_type": "code",
   "execution_count": 16,
   "id": "3a9bef9f-c066-413d-94b9-812c678d23f8",
   "metadata": {},
   "outputs": [
    {
     "name": "stdout",
     "output_type": "stream",
     "text": [
      "/Users/rubi/Desktop/Github/typingexp/typing_task_analysis/yoga_cues/pose_1.wav\n"
     ]
    },
    {
     "ename": "JSONDecodeError",
     "evalue": "Expecting value: line 1 column 1 (char 0)",
     "output_type": "error",
     "traceback": [
      "\u001b[0;31m---------------------------------------------------------------------------\u001b[0m",
      "\u001b[0;31mJSONDecodeError\u001b[0m                           Traceback (most recent call last)",
      "Cell \u001b[0;32mIn[16], line 34\u001b[0m\n\u001b[1;32m     32\u001b[0m     temp_path \u001b[38;5;241m=\u001b[39m \u001b[38;5;124mr\u001b[39m\u001b[38;5;124m'\u001b[39m\u001b[38;5;124m/Users/rubi/Desktop/Github/typingexp/typing_task_analysis/yoga_cues/\u001b[39m\u001b[38;5;124m'\u001b[39m \u001b[38;5;241m+\u001b[39m file_path\n\u001b[1;32m     33\u001b[0m     \u001b[38;5;28mprint\u001b[39m(temp_path)\n\u001b[0;32m---> 34\u001b[0m     cue \u001b[38;5;241m=\u001b[39m \u001b[43mAudioSegment\u001b[49m\u001b[38;5;241;43m.\u001b[39;49m\u001b[43mfrom_file\u001b[49m\u001b[43m(\u001b[49m\u001b[43mtemp_path\u001b[49m\u001b[43m,\u001b[49m\u001b[43m \u001b[49m\u001b[38;5;124;43m'\u001b[39;49m\u001b[38;5;124;43mwav\u001b[39;49m\u001b[38;5;124;43m'\u001b[39;49m\u001b[43m)\u001b[49m\n\u001b[1;32m     35\u001b[0m     \u001b[38;5;66;03m# for i, (pose, duration) in enumerate(routine):\u001b[39;00m\n\u001b[1;32m     36\u001b[0m     \u001b[38;5;66;03m#     print(duration)\u001b[39;00m\n\u001b[1;32m     37\u001b[0m     \u001b[38;5;66;03m# final_audio += cue + AudioSegment.silent(duration=1000)\u001b[39;00m\n\u001b[0;32m   (...)\u001b[0m\n\u001b[1;32m     41\u001b[0m \n\u001b[1;32m     42\u001b[0m \u001b[38;5;66;03m# print(\"✅ Yoga cue audio saved as 'yoga_pose_audio_routine.mp3'\")\u001b[39;00m\n",
      "File \u001b[0;32m~/miniconda3/envs/jlab/lib/python3.12/site-packages/pydub/audio_segment.py:728\u001b[0m, in \u001b[0;36mAudioSegment.from_file\u001b[0;34m(cls, file, format, codec, parameters, start_second, duration, **kwargs)\u001b[0m\n\u001b[1;32m    726\u001b[0m     info \u001b[38;5;241m=\u001b[39m \u001b[38;5;28;01mNone\u001b[39;00m\n\u001b[1;32m    727\u001b[0m \u001b[38;5;28;01melse\u001b[39;00m:\n\u001b[0;32m--> 728\u001b[0m     info \u001b[38;5;241m=\u001b[39m \u001b[43mmediainfo_json\u001b[49m\u001b[43m(\u001b[49m\u001b[43morig_file\u001b[49m\u001b[43m,\u001b[49m\u001b[43m \u001b[49m\u001b[43mread_ahead_limit\u001b[49m\u001b[38;5;241;43m=\u001b[39;49m\u001b[43mread_ahead_limit\u001b[49m\u001b[43m)\u001b[49m\n\u001b[1;32m    729\u001b[0m \u001b[38;5;28;01mif\u001b[39;00m info:\n\u001b[1;32m    730\u001b[0m     audio_streams \u001b[38;5;241m=\u001b[39m [x \u001b[38;5;28;01mfor\u001b[39;00m x \u001b[38;5;129;01min\u001b[39;00m info[\u001b[38;5;124m'\u001b[39m\u001b[38;5;124mstreams\u001b[39m\u001b[38;5;124m'\u001b[39m]\n\u001b[1;32m    731\u001b[0m                      \u001b[38;5;28;01mif\u001b[39;00m x[\u001b[38;5;124m'\u001b[39m\u001b[38;5;124mcodec_type\u001b[39m\u001b[38;5;124m'\u001b[39m] \u001b[38;5;241m==\u001b[39m \u001b[38;5;124m'\u001b[39m\u001b[38;5;124maudio\u001b[39m\u001b[38;5;124m'\u001b[39m]\n",
      "File \u001b[0;32m~/miniconda3/envs/jlab/lib/python3.12/site-packages/pydub/utils.py:279\u001b[0m, in \u001b[0;36mmediainfo_json\u001b[0;34m(filepath, read_ahead_limit)\u001b[0m\n\u001b[1;32m    276\u001b[0m output \u001b[38;5;241m=\u001b[39m output\u001b[38;5;241m.\u001b[39mdecode(\u001b[38;5;124m\"\u001b[39m\u001b[38;5;124mutf-8\u001b[39m\u001b[38;5;124m\"\u001b[39m, \u001b[38;5;124m'\u001b[39m\u001b[38;5;124mignore\u001b[39m\u001b[38;5;124m'\u001b[39m)\n\u001b[1;32m    277\u001b[0m stderr \u001b[38;5;241m=\u001b[39m stderr\u001b[38;5;241m.\u001b[39mdecode(\u001b[38;5;124m\"\u001b[39m\u001b[38;5;124mutf-8\u001b[39m\u001b[38;5;124m\"\u001b[39m, \u001b[38;5;124m'\u001b[39m\u001b[38;5;124mignore\u001b[39m\u001b[38;5;124m'\u001b[39m)\n\u001b[0;32m--> 279\u001b[0m info \u001b[38;5;241m=\u001b[39m \u001b[43mjson\u001b[49m\u001b[38;5;241;43m.\u001b[39;49m\u001b[43mloads\u001b[49m\u001b[43m(\u001b[49m\u001b[43moutput\u001b[49m\u001b[43m)\u001b[49m\n\u001b[1;32m    281\u001b[0m \u001b[38;5;28;01mif\u001b[39;00m \u001b[38;5;129;01mnot\u001b[39;00m info:\n\u001b[1;32m    282\u001b[0m     \u001b[38;5;66;03m# If ffprobe didn't give any information, just return it\u001b[39;00m\n\u001b[1;32m    283\u001b[0m     \u001b[38;5;66;03m# (for example, because the file doesn't exist)\u001b[39;00m\n\u001b[1;32m    284\u001b[0m     \u001b[38;5;28;01mreturn\u001b[39;00m info\n",
      "File \u001b[0;32m~/miniconda3/envs/jlab/lib/python3.12/json/__init__.py:346\u001b[0m, in \u001b[0;36mloads\u001b[0;34m(s, cls, object_hook, parse_float, parse_int, parse_constant, object_pairs_hook, **kw)\u001b[0m\n\u001b[1;32m    341\u001b[0m     s \u001b[38;5;241m=\u001b[39m s\u001b[38;5;241m.\u001b[39mdecode(detect_encoding(s), \u001b[38;5;124m'\u001b[39m\u001b[38;5;124msurrogatepass\u001b[39m\u001b[38;5;124m'\u001b[39m)\n\u001b[1;32m    343\u001b[0m \u001b[38;5;28;01mif\u001b[39;00m (\u001b[38;5;28mcls\u001b[39m \u001b[38;5;129;01mis\u001b[39;00m \u001b[38;5;28;01mNone\u001b[39;00m \u001b[38;5;129;01mand\u001b[39;00m object_hook \u001b[38;5;129;01mis\u001b[39;00m \u001b[38;5;28;01mNone\u001b[39;00m \u001b[38;5;129;01mand\u001b[39;00m\n\u001b[1;32m    344\u001b[0m         parse_int \u001b[38;5;129;01mis\u001b[39;00m \u001b[38;5;28;01mNone\u001b[39;00m \u001b[38;5;129;01mand\u001b[39;00m parse_float \u001b[38;5;129;01mis\u001b[39;00m \u001b[38;5;28;01mNone\u001b[39;00m \u001b[38;5;129;01mand\u001b[39;00m\n\u001b[1;32m    345\u001b[0m         parse_constant \u001b[38;5;129;01mis\u001b[39;00m \u001b[38;5;28;01mNone\u001b[39;00m \u001b[38;5;129;01mand\u001b[39;00m object_pairs_hook \u001b[38;5;129;01mis\u001b[39;00m \u001b[38;5;28;01mNone\u001b[39;00m \u001b[38;5;129;01mand\u001b[39;00m \u001b[38;5;129;01mnot\u001b[39;00m kw):\n\u001b[0;32m--> 346\u001b[0m     \u001b[38;5;28;01mreturn\u001b[39;00m \u001b[43m_default_decoder\u001b[49m\u001b[38;5;241;43m.\u001b[39;49m\u001b[43mdecode\u001b[49m\u001b[43m(\u001b[49m\u001b[43ms\u001b[49m\u001b[43m)\u001b[49m\n\u001b[1;32m    347\u001b[0m \u001b[38;5;28;01mif\u001b[39;00m \u001b[38;5;28mcls\u001b[39m \u001b[38;5;129;01mis\u001b[39;00m \u001b[38;5;28;01mNone\u001b[39;00m:\n\u001b[1;32m    348\u001b[0m     \u001b[38;5;28mcls\u001b[39m \u001b[38;5;241m=\u001b[39m JSONDecoder\n",
      "File \u001b[0;32m~/miniconda3/envs/jlab/lib/python3.12/json/decoder.py:337\u001b[0m, in \u001b[0;36mJSONDecoder.decode\u001b[0;34m(self, s, _w)\u001b[0m\n\u001b[1;32m    332\u001b[0m \u001b[38;5;28;01mdef\u001b[39;00m \u001b[38;5;21mdecode\u001b[39m(\u001b[38;5;28mself\u001b[39m, s, _w\u001b[38;5;241m=\u001b[39mWHITESPACE\u001b[38;5;241m.\u001b[39mmatch):\n\u001b[1;32m    333\u001b[0m \u001b[38;5;250m    \u001b[39m\u001b[38;5;124;03m\"\"\"Return the Python representation of ``s`` (a ``str`` instance\u001b[39;00m\n\u001b[1;32m    334\u001b[0m \u001b[38;5;124;03m    containing a JSON document).\u001b[39;00m\n\u001b[1;32m    335\u001b[0m \n\u001b[1;32m    336\u001b[0m \u001b[38;5;124;03m    \"\"\"\u001b[39;00m\n\u001b[0;32m--> 337\u001b[0m     obj, end \u001b[38;5;241m=\u001b[39m \u001b[38;5;28;43mself\u001b[39;49m\u001b[38;5;241;43m.\u001b[39;49m\u001b[43mraw_decode\u001b[49m\u001b[43m(\u001b[49m\u001b[43ms\u001b[49m\u001b[43m,\u001b[49m\u001b[43m \u001b[49m\u001b[43midx\u001b[49m\u001b[38;5;241;43m=\u001b[39;49m\u001b[43m_w\u001b[49m\u001b[43m(\u001b[49m\u001b[43ms\u001b[49m\u001b[43m,\u001b[49m\u001b[43m \u001b[49m\u001b[38;5;241;43m0\u001b[39;49m\u001b[43m)\u001b[49m\u001b[38;5;241;43m.\u001b[39;49m\u001b[43mend\u001b[49m\u001b[43m(\u001b[49m\u001b[43m)\u001b[49m\u001b[43m)\u001b[49m\n\u001b[1;32m    338\u001b[0m     end \u001b[38;5;241m=\u001b[39m _w(s, end)\u001b[38;5;241m.\u001b[39mend()\n\u001b[1;32m    339\u001b[0m     \u001b[38;5;28;01mif\u001b[39;00m end \u001b[38;5;241m!=\u001b[39m \u001b[38;5;28mlen\u001b[39m(s):\n",
      "File \u001b[0;32m~/miniconda3/envs/jlab/lib/python3.12/json/decoder.py:355\u001b[0m, in \u001b[0;36mJSONDecoder.raw_decode\u001b[0;34m(self, s, idx)\u001b[0m\n\u001b[1;32m    353\u001b[0m     obj, end \u001b[38;5;241m=\u001b[39m \u001b[38;5;28mself\u001b[39m\u001b[38;5;241m.\u001b[39mscan_once(s, idx)\n\u001b[1;32m    354\u001b[0m \u001b[38;5;28;01mexcept\u001b[39;00m \u001b[38;5;167;01mStopIteration\u001b[39;00m \u001b[38;5;28;01mas\u001b[39;00m err:\n\u001b[0;32m--> 355\u001b[0m     \u001b[38;5;28;01mraise\u001b[39;00m JSONDecodeError(\u001b[38;5;124m\"\u001b[39m\u001b[38;5;124mExpecting value\u001b[39m\u001b[38;5;124m\"\u001b[39m, s, err\u001b[38;5;241m.\u001b[39mvalue) \u001b[38;5;28;01mfrom\u001b[39;00m \u001b[38;5;28;01mNone\u001b[39;00m\n\u001b[1;32m    356\u001b[0m \u001b[38;5;28;01mreturn\u001b[39;00m obj, end\n",
      "\u001b[0;31mJSONDecodeError\u001b[0m: Expecting value: line 1 column 1 (char 0)"
     ]
    }
   ],
   "source": [
    "# save_dir = r'/Users/rubi/Desktop/Github/typingexp/typing_task_analysis/yoga_cues'\n",
    "\n",
    "# ### concatenating all go-pro videos of interest into one\n",
    "# f = open('routine_path_file.txt', 'w')\n",
    "# for filename in os.scandir(save_dir):\n",
    "#     if file.__contains__('pose'):\n",
    "#         f.write('file \\'' + filename.path + '\\'')\n",
    "#         f.write('\\n')\n",
    "# f.close()\n",
    "\n",
    "# concatenate = 'ffmpeg -f concat -safe 0 -i routine_path_file.txt -c copy %s'  % ('full_routine')\n",
    "# os.system(concatenate) ## output of 0 means it worked :) \n",
    "# res = []\n",
    "# for file in os.listdir(save_dir):\n",
    "#     if file.__contains__('pose'):\n",
    "#         res.append(file)\n",
    "# print(len(res))\n",
    "\n",
    "# print('fuck')\n",
    "# f = open('clip_path_file.txt', 'w')\n",
    "# for filename in res:\n",
    "#         f.write('file \\'' + save_dir + '\\\\' + filename + '\\'')\n",
    "#         f.write('\\n')\n",
    "# f.close()\n",
    "\n",
    "# concatenate = 'ffmpeg -f concat -safe 0 -i clip_path_file.txt -c copy %s'  % ('full_routine')\n",
    "# os.system(concatenate) ## output of 0 means it worked :)\n",
    "\n",
    "# Stitch together all cues with 1 second pause in between\n",
    "final_audio = AudioSegment.silent(duration=0)\n",
    "for file_path in file_paths:\n",
    "    temp_path = r'/Users/rubi/Desktop/Github/typingexp/typing_task_analysis/yoga_cues/' + file_path\n",
    "    print(temp_path)\n",
    "    cue = AudioSegment.from_file(temp_path, 'wav')\n",
    "    # for i, (pose, duration) in enumerate(routine):\n",
    "    #     print(duration)\n",
    "    # final_audio += cue + AudioSegment.silent(duration=1000)\n",
    "\n",
    "# Export the final audio file\n",
    "# final_audio.export(\"yoga_pose_audio_routine.mp3\", format=\"mp3\")\n",
    "\n",
    "# print(\"✅ Yoga cue audio saved as 'yoga_pose_audio_routine.mp3'\")\n"
   ]
  },
  {
   "cell_type": "code",
   "execution_count": 43,
   "id": "12e39099-f797-4f37-aa9d-80efb4764643",
   "metadata": {},
   "outputs": [
    {
     "name": "stdout",
     "output_type": "stream",
     "text": [
      "90\n",
      "90\n",
      "120\n",
      "120\n",
      "150\n",
      "90\n",
      "90\n",
      "90\n",
      "90\n",
      "90\n",
      "90\n",
      "90\n",
      "90\n",
      "120\n"
     ]
    }
   ],
   "source": [
    "for i, (pose, duration) in enumerate(routine):\n",
    "    print(duration)"
   ]
  },
  {
   "cell_type": "code",
   "execution_count": null,
   "id": "67d04d12-37a1-45eb-90e7-0e6deba7af5b",
   "metadata": {},
   "outputs": [],
   "source": []
  }
 ],
 "metadata": {
  "kernelspec": {
   "display_name": "Python 3 (ipykernel)",
   "language": "python",
   "name": "python3"
  },
  "language_info": {
   "codemirror_mode": {
    "name": "ipython",
    "version": 3
   },
   "file_extension": ".py",
   "mimetype": "text/x-python",
   "name": "python",
   "nbconvert_exporter": "python",
   "pygments_lexer": "ipython3",
   "version": "3.12.2"
  }
 },
 "nbformat": 4,
 "nbformat_minor": 5
}
