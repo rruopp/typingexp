{
 "cells": [
  {
   "cell_type": "code",
   "execution_count": 1,
   "id": "ee75d085-0130-4833-ad30-32c23326ec6f",
   "metadata": {},
   "outputs": [],
   "source": [
    "import os\n",
    "from scipy.fft import fft, ifft\n",
    "import numpy as np\n",
    "import pandas as pd\n",
    "import math\n",
    "import glob\n",
    "import matplotlib.pyplot as plt\n",
    "import seaborn as sns\n",
    "import seaborn.objects as so"
   ]
  },
  {
   "cell_type": "code",
   "execution_count": 2,
   "id": "3d11b8fe-abfa-47fe-b408-38a75a9d11ba",
   "metadata": {},
   "outputs": [],
   "source": [
    "# file_dir = r'/Users/rubi/Desktop/Action_Control_Lab/typ_project/typing_task_data/s262_there_reps'\n",
    "file_dir = r'/Volumes/greenhouse/typingtask_data/testing/s262_there_reps'\n",
    "os.chdir(file_dir)\\\n",
    "\n",
    "files = glob.glob(\"*.csv\")"
   ]
  },
  {
   "cell_type": "code",
   "execution_count": 3,
   "id": "6a44731f-e3c6-4c80-be88-c6f5b164911d",
   "metadata": {},
   "outputs": [
    {
     "data": {
      "text/plain": [
       "[]"
      ]
     },
     "execution_count": 3,
     "metadata": {},
     "output_type": "execute_result"
    }
   ],
   "source": [
    "files.sort(key=lambda s: s.split('_')[6])\n",
    "files"
   ]
  },
  {
   "cell_type": "code",
   "execution_count": 4,
   "id": "04d3b537-ec7a-418c-bcb2-44dffe6bbc92",
   "metadata": {},
   "outputs": [
    {
     "ename": "ValueError",
     "evalue": "No objects to concatenate",
     "output_type": "error",
     "traceback": [
      "\u001b[0;31m---------------------------------------------------------------------------\u001b[0m",
      "\u001b[0;31mValueError\u001b[0m                                Traceback (most recent call last)",
      "Cell \u001b[0;32mIn[4], line 8\u001b[0m\n\u001b[1;32m      5\u001b[0m     df_list\u001b[38;5;241m.\u001b[39mappend(df)\n\u001b[1;32m      7\u001b[0m \u001b[38;5;66;03m# Concatenate all DataFrames\u001b[39;00m\n\u001b[0;32m----> 8\u001b[0m there_trials \u001b[38;5;241m=\u001b[39m \u001b[43mpd\u001b[49m\u001b[38;5;241;43m.\u001b[39;49m\u001b[43mconcat\u001b[49m\u001b[43m(\u001b[49m\u001b[43mdf_list\u001b[49m\u001b[43m,\u001b[49m\u001b[43m \u001b[49m\u001b[43mignore_index\u001b[49m\u001b[38;5;241;43m=\u001b[39;49m\u001b[38;5;28;43;01mTrue\u001b[39;49;00m\u001b[43m)\u001b[49m\n\u001b[1;32m     10\u001b[0m there_trials\n\u001b[1;32m     11\u001b[0m \u001b[38;5;66;03m## track_0 == right hand & track_1 == left hand\u001b[39;00m\n",
      "File \u001b[0;32m~/miniconda3/envs/jlab/lib/python3.12/site-packages/pandas/core/reshape/concat.py:382\u001b[0m, in \u001b[0;36mconcat\u001b[0;34m(objs, axis, join, ignore_index, keys, levels, names, verify_integrity, sort, copy)\u001b[0m\n\u001b[1;32m    379\u001b[0m \u001b[38;5;28;01melif\u001b[39;00m copy \u001b[38;5;129;01mand\u001b[39;00m using_copy_on_write():\n\u001b[1;32m    380\u001b[0m     copy \u001b[38;5;241m=\u001b[39m \u001b[38;5;28;01mFalse\u001b[39;00m\n\u001b[0;32m--> 382\u001b[0m op \u001b[38;5;241m=\u001b[39m \u001b[43m_Concatenator\u001b[49m\u001b[43m(\u001b[49m\n\u001b[1;32m    383\u001b[0m \u001b[43m    \u001b[49m\u001b[43mobjs\u001b[49m\u001b[43m,\u001b[49m\n\u001b[1;32m    384\u001b[0m \u001b[43m    \u001b[49m\u001b[43maxis\u001b[49m\u001b[38;5;241;43m=\u001b[39;49m\u001b[43maxis\u001b[49m\u001b[43m,\u001b[49m\n\u001b[1;32m    385\u001b[0m \u001b[43m    \u001b[49m\u001b[43mignore_index\u001b[49m\u001b[38;5;241;43m=\u001b[39;49m\u001b[43mignore_index\u001b[49m\u001b[43m,\u001b[49m\n\u001b[1;32m    386\u001b[0m \u001b[43m    \u001b[49m\u001b[43mjoin\u001b[49m\u001b[38;5;241;43m=\u001b[39;49m\u001b[43mjoin\u001b[49m\u001b[43m,\u001b[49m\n\u001b[1;32m    387\u001b[0m \u001b[43m    \u001b[49m\u001b[43mkeys\u001b[49m\u001b[38;5;241;43m=\u001b[39;49m\u001b[43mkeys\u001b[49m\u001b[43m,\u001b[49m\n\u001b[1;32m    388\u001b[0m \u001b[43m    \u001b[49m\u001b[43mlevels\u001b[49m\u001b[38;5;241;43m=\u001b[39;49m\u001b[43mlevels\u001b[49m\u001b[43m,\u001b[49m\n\u001b[1;32m    389\u001b[0m \u001b[43m    \u001b[49m\u001b[43mnames\u001b[49m\u001b[38;5;241;43m=\u001b[39;49m\u001b[43mnames\u001b[49m\u001b[43m,\u001b[49m\n\u001b[1;32m    390\u001b[0m \u001b[43m    \u001b[49m\u001b[43mverify_integrity\u001b[49m\u001b[38;5;241;43m=\u001b[39;49m\u001b[43mverify_integrity\u001b[49m\u001b[43m,\u001b[49m\n\u001b[1;32m    391\u001b[0m \u001b[43m    \u001b[49m\u001b[43mcopy\u001b[49m\u001b[38;5;241;43m=\u001b[39;49m\u001b[43mcopy\u001b[49m\u001b[43m,\u001b[49m\n\u001b[1;32m    392\u001b[0m \u001b[43m    \u001b[49m\u001b[43msort\u001b[49m\u001b[38;5;241;43m=\u001b[39;49m\u001b[43msort\u001b[49m\u001b[43m,\u001b[49m\n\u001b[1;32m    393\u001b[0m \u001b[43m\u001b[49m\u001b[43m)\u001b[49m\n\u001b[1;32m    395\u001b[0m \u001b[38;5;28;01mreturn\u001b[39;00m op\u001b[38;5;241m.\u001b[39mget_result()\n",
      "File \u001b[0;32m~/miniconda3/envs/jlab/lib/python3.12/site-packages/pandas/core/reshape/concat.py:445\u001b[0m, in \u001b[0;36m_Concatenator.__init__\u001b[0;34m(self, objs, axis, join, keys, levels, names, ignore_index, verify_integrity, copy, sort)\u001b[0m\n\u001b[1;32m    442\u001b[0m \u001b[38;5;28mself\u001b[39m\u001b[38;5;241m.\u001b[39mverify_integrity \u001b[38;5;241m=\u001b[39m verify_integrity\n\u001b[1;32m    443\u001b[0m \u001b[38;5;28mself\u001b[39m\u001b[38;5;241m.\u001b[39mcopy \u001b[38;5;241m=\u001b[39m copy\n\u001b[0;32m--> 445\u001b[0m objs, keys \u001b[38;5;241m=\u001b[39m \u001b[38;5;28;43mself\u001b[39;49m\u001b[38;5;241;43m.\u001b[39;49m\u001b[43m_clean_keys_and_objs\u001b[49m\u001b[43m(\u001b[49m\u001b[43mobjs\u001b[49m\u001b[43m,\u001b[49m\u001b[43m \u001b[49m\u001b[43mkeys\u001b[49m\u001b[43m)\u001b[49m\n\u001b[1;32m    447\u001b[0m \u001b[38;5;66;03m# figure out what our result ndim is going to be\u001b[39;00m\n\u001b[1;32m    448\u001b[0m ndims \u001b[38;5;241m=\u001b[39m \u001b[38;5;28mself\u001b[39m\u001b[38;5;241m.\u001b[39m_get_ndims(objs)\n",
      "File \u001b[0;32m~/miniconda3/envs/jlab/lib/python3.12/site-packages/pandas/core/reshape/concat.py:507\u001b[0m, in \u001b[0;36m_Concatenator._clean_keys_and_objs\u001b[0;34m(self, objs, keys)\u001b[0m\n\u001b[1;32m    504\u001b[0m     objs_list \u001b[38;5;241m=\u001b[39m \u001b[38;5;28mlist\u001b[39m(objs)\n\u001b[1;32m    506\u001b[0m \u001b[38;5;28;01mif\u001b[39;00m \u001b[38;5;28mlen\u001b[39m(objs_list) \u001b[38;5;241m==\u001b[39m \u001b[38;5;241m0\u001b[39m:\n\u001b[0;32m--> 507\u001b[0m     \u001b[38;5;28;01mraise\u001b[39;00m \u001b[38;5;167;01mValueError\u001b[39;00m(\u001b[38;5;124m\"\u001b[39m\u001b[38;5;124mNo objects to concatenate\u001b[39m\u001b[38;5;124m\"\u001b[39m)\n\u001b[1;32m    509\u001b[0m \u001b[38;5;28;01mif\u001b[39;00m keys \u001b[38;5;129;01mis\u001b[39;00m \u001b[38;5;28;01mNone\u001b[39;00m:\n\u001b[1;32m    510\u001b[0m     objs_list \u001b[38;5;241m=\u001b[39m \u001b[38;5;28mlist\u001b[39m(com\u001b[38;5;241m.\u001b[39mnot_none(\u001b[38;5;241m*\u001b[39mobjs_list))\n",
      "\u001b[0;31mValueError\u001b[0m: No objects to concatenate"
     ]
    }
   ],
   "source": [
    "df_list = []\n",
    "for file in files:\n",
    "    df = pd.read_csv(file)\n",
    "    df.insert(1, 'trial', file[46:49])\n",
    "    df_list.append(df)\n",
    "\n",
    "# Concatenate all DataFrames\n",
    "there_trials = pd.concat(df_list, ignore_index=True)\n",
    "\n",
    "there_trials\n",
    "## track_0 == right hand & track_1 == left hand"
   ]
  },
  {
   "cell_type": "code",
   "execution_count": null,
   "id": "193f5345-116c-4c02-a250-5888e1698223",
   "metadata": {},
   "outputs": [],
   "source": [
    "there_trials_0 = there_trials[there_trials['track'] == 'track_0']\n",
    "p = so.Plot(there_trials_0, \"2_nail.x\", \"2_nail.y\", color='trial')\n",
    "p.add(so.Path())"
   ]
  },
  {
   "cell_type": "code",
   "execution_count": null,
   "id": "1981bd05-9ac9-4b70-a9a6-267d79174b57",
   "metadata": {},
   "outputs": [],
   "source": [
    "there_trials_0 = there_trials[there_trials['track'] == 'track_0']\n",
    "p = so.Plot(there_trials_0, \"3_nail.x\", \"3_nail.y\", color='trial')\n",
    "p.add(so.Path())"
   ]
  },
  {
   "cell_type": "code",
   "execution_count": null,
   "id": "dabbfcca-be3d-4678-9882-b0bf2ed1a160",
   "metadata": {},
   "outputs": [],
   "source": [
    "sns.lineplot(x='frame_idx', y=\"2_nail.x\", hue='trial',\n",
    "             data=there_trials_0)"
   ]
  },
  {
   "cell_type": "code",
   "execution_count": null,
   "id": "4866cd6a-0159-4c0e-8170-d3a96cd9d748",
   "metadata": {},
   "outputs": [],
   "source": [
    "sns.lineplot(x='frame_idx', y=\"4_nail.x\", hue='trial',\n",
    "             data=there_trials_0)"
   ]
  },
  {
   "cell_type": "code",
   "execution_count": null,
   "id": "310b8d1e-93f9-45ae-b232-31af534692e6",
   "metadata": {},
   "outputs": [],
   "source": [
    "sns.lineplot(x='frame_idx', y='2_nail.score', hue='trial',\n",
    "             data=there_trials_0)"
   ]
  },
  {
   "cell_type": "code",
   "execution_count": null,
   "id": "554b088b-7595-467a-9d4d-8bd87f4f4530",
   "metadata": {},
   "outputs": [],
   "source": [
    "# test_0_vel = pd.DataFrame(abs(test_0['2_nail.x'].diff()))\n",
    "\n",
    "# sns.lineplot(x=test_0_vel.index, y='2_nail.x',\n",
    "#              data=test_0_vel)\n",
    "\n",
    "# test_0_vel"
   ]
  },
  {
   "cell_type": "markdown",
   "id": "e09d1262-cb40-4b12-bcd8-b716cfa4a25b",
   "metadata": {},
   "source": [
    "## Trajectory variability testing"
   ]
  },
  {
   "cell_type": "code",
   "execution_count": null,
   "id": "e8e7de2d-1d9b-41f4-ba73-411a142228c0",
   "metadata": {},
   "outputs": [],
   "source": [
    "there_trials_0\n",
    "\n",
    "mean_test = there_trials_0.groupby(['frame_idx']).agg({'2_nail.x':'mean', '2_nail.y':'mean'}).reset_index(drop=True)\n",
    "mean_test = mean_test.rename(columns={'2_nail.x':'2_nail.x_mean', '2_nail.y':'2_nail.y_mean'})\n",
    "\n",
    "def diff_eq():\n",
    "    \n",
    "# there_trials_0.groupby('frame_idx')"
   ]
  },
  {
   "cell_type": "code",
   "execution_count": null,
   "id": "c19cdce6-22c0-441d-b4ef-93dd119f35be",
   "metadata": {},
   "outputs": [],
   "source": []
  },
  {
   "cell_type": "code",
   "execution_count": null,
   "id": "30355a49-bde7-48a6-819b-0583cbed10a8",
   "metadata": {},
   "outputs": [],
   "source": []
  },
  {
   "cell_type": "code",
   "execution_count": null,
   "id": "9c475c9c-35c3-474f-84ae-5bf0e78e3573",
   "metadata": {},
   "outputs": [],
   "source": []
  }
 ],
 "metadata": {
  "kernelspec": {
   "display_name": "Python 3 (ipykernel)",
   "language": "python",
   "name": "python3"
  },
  "language_info": {
   "codemirror_mode": {
    "name": "ipython",
    "version": 3
   },
   "file_extension": ".py",
   "mimetype": "text/x-python",
   "name": "python",
   "nbconvert_exporter": "python",
   "pygments_lexer": "ipython3",
   "version": "3.12.2"
  }
 },
 "nbformat": 4,
 "nbformat_minor": 5
}
