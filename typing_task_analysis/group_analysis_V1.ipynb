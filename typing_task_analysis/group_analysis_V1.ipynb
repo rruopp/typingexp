{
 "cells": [
  {
   "cell_type": "code",
   "execution_count": 1,
   "id": "a05dbf65-c3a4-4b66-859c-f82052593ee8",
   "metadata": {},
   "outputs": [],
   "source": [
    "# importing experiment data\n",
    "import numpy as np\n",
    "import pandas as pd\n",
    "import ast\n",
    "import math\n",
    "import matplotlib.pyplot as plt\n",
    "from scipy.stats import variation\n",
    "\n"
   ]
  },
  {
   "cell_type": "code",
   "execution_count": null,
   "id": "9094f9b0-ddf0-4f13-956c-a6c1d69111fb",
   "metadata": {},
   "outputs": [],
   "source": [
    "# To-Do\n",
    "# visualize average cv changes across all IKI positions for each individual\n",
    "# find average IKI values for each individual\n",
    "#"
   ]
  }
 ],
 "metadata": {
  "kernelspec": {
   "display_name": "Python 3",
   "language": "python",
   "name": "python3"
  },
  "language_info": {
   "codemirror_mode": {
    "name": "ipython",
    "version": 3
   },
   "file_extension": ".py",
   "mimetype": "text/x-python",
   "name": "python",
   "nbconvert_exporter": "python",
   "pygments_lexer": "ipython3",
   "version": "3.9.1"
  }
 },
 "nbformat": 4,
 "nbformat_minor": 5
}
