{
 "cells": [
  {
   "cell_type": "code",
   "execution_count": 1,
   "metadata": {},
   "outputs": [],
   "source": [
    "import numpy as np\n",
    "import pandas as pd\n",
    "import statistics as st\n",
    "import ast\n",
    "import math\n",
    "import matplotlib.pyplot as plt\n",
    "import random as ran\n",
    "from scipy.stats import variation"
   ]
  },
  {
   "cell_type": "code",
   "execution_count": 2,
   "metadata": {},
   "outputs": [],
   "source": [
    "# creating pandas dataframes from csv files with word/bigram frequency data\n",
    "\n",
    "### Mac\n",
    "subtl_freq = pd.read_csv('/Users/rubi/Desktop/Github/typingexp/string_pool/SUBTLEXusExcel2007.csv')\n",
    "guten_freq = pd.read_csv('/Users/rubi/Desktop/Github/typingexp/string_pool/bigram_freqs.csv')\n",
    "\n",
    "### Ubuntu\n",
    "# subtl_freq = pd.read_csv('/home/rubi/Desktop/Github/typingexp/string_pool/SUBTLEXusExcel2007.csv')\n",
    "# guten_freq = pd.read_csv('/home/rubi/Desktop/Github/typingexp/string_pool/bigram_freqs.csv')"
   ]
  },
  {
   "cell_type": "code",
   "execution_count": 3,
   "metadata": {},
   "outputs": [],
   "source": [
    "### Goal is to determine the word frequency, bigrams, bigram frequencies, average bigram frequency, and median bigram frequency for each\n",
    "### word in the SUBLTEX lexicon. And put them all into one dataframe. "
   ]
  },
  {
   "cell_type": "code",
   "execution_count": 4,
   "metadata": {},
   "outputs": [],
   "source": [
    "# creating sub-dataset with only data we need\n",
    "wf = subtl_freq[['Word','SUBTLWF']] # wf == word frequency\n",
    "bf = guten_freq[['Bigrams', 'Frequency']] # bf == bigram frequency"
   ]
  },
  {
   "cell_type": "code",
   "execution_count": 5,
   "metadata": {},
   "outputs": [],
   "source": [
    "# filtering for only words with 5 letters\n",
    "fivewf = (wf[(wf.Word.str.len()==5)]).reset_index(drop=True)"
   ]
  },
  {
   "cell_type": "code",
   "execution_count": 6,
   "metadata": {},
   "outputs": [],
   "source": [
    "# determining bigrams present in each word\n",
    "bi_results = []\n",
    "for x in fivewf['Word']:\n",
    "    word = str(x).lower()\n",
    "    bigrams_in_word = []\n",
    "    for y in bf['Bigrams']:\n",
    "        if y in word:\n",
    "            bigrams_in_word.append(y)\n",
    "    bi_results.append(bigrams_in_word)\n",
    "    \n",
    "biw = pd.DataFrame(bi_results, columns=['bi1', 'bi2', 'bi3', 'bi4']) # biw == bigrams in word"
   ]
  },
  {
   "cell_type": "code",
   "execution_count": 7,
   "metadata": {},
   "outputs": [],
   "source": [
    "# determining frequency of bigrams present in each word\n",
    "bf_results = []\n",
    "for x in bi_results:\n",
    "    bigram_freqs = []\n",
    "    for y in bf['Bigrams']:\n",
    "        if y in x:\n",
    "            loc = bf.loc[bf['Bigrams']==y].index[0]\n",
    "            bigram_freqs.append(bf.Frequency[loc])\n",
    "    bf_results.append(bigram_freqs)\n",
    "    \n",
    "bf_byword = pd.DataFrame(bf_results, columns=['bf1', 'bf2', 'bf3', 'bf4'])"
   ]
  },
  {
   "cell_type": "code",
   "execution_count": 8,
   "metadata": {},
   "outputs": [],
   "source": [
    "# find bigram frequency average for each word\n",
    "avg_freq = []\n",
    "for x in bf_results:\n",
    "    avg_freq.append(st.mean(x))\n",
    "    \n",
    "bf_avg = pd.DataFrame(avg_freq, columns=['average bf'])"
   ]
  },
  {
   "cell_type": "code",
   "execution_count": 9,
   "metadata": {},
   "outputs": [],
   "source": [
    "# find median bigram frequency for each word\n",
    "med_freq = []\n",
    "for x in bf_results:\n",
    "    med_freq.append(st.median(x))\n",
    "    \n",
    "bf_med = pd.DataFrame(med_freq, columns=['median bf'])"
   ]
  },
  {
   "cell_type": "code",
   "execution_count": 10,
   "metadata": {},
   "outputs": [
    {
     "data": {
      "text/html": [
       "<div>\n",
       "<style scoped>\n",
       "    .dataframe tbody tr th:only-of-type {\n",
       "        vertical-align: middle;\n",
       "    }\n",
       "\n",
       "    .dataframe tbody tr th {\n",
       "        vertical-align: top;\n",
       "    }\n",
       "\n",
       "    .dataframe thead th {\n",
       "        text-align: right;\n",
       "    }\n",
       "</style>\n",
       "<table border=\"1\" class=\"dataframe\">\n",
       "  <thead>\n",
       "    <tr style=\"text-align: right;\">\n",
       "      <th></th>\n",
       "      <th>Word</th>\n",
       "      <th>SUBTLWF</th>\n",
       "      <th>bi1</th>\n",
       "      <th>bi2</th>\n",
       "      <th>bi3</th>\n",
       "      <th>bi4</th>\n",
       "      <th>bf1</th>\n",
       "      <th>bf2</th>\n",
       "      <th>bf3</th>\n",
       "      <th>bf4</th>\n",
       "      <th>average bf</th>\n",
       "      <th>median bf</th>\n",
       "    </tr>\n",
       "  </thead>\n",
       "  <tbody>\n",
       "    <tr>\n",
       "      <th>0</th>\n",
       "      <td>there</td>\n",
       "      <td>4348.12</td>\n",
       "      <td>er</td>\n",
       "      <td>he</td>\n",
       "      <td>re</td>\n",
       "      <td>th</td>\n",
       "      <td>12934901</td>\n",
       "      <td>21484684</td>\n",
       "      <td>10687711</td>\n",
       "      <td>22288309.0</td>\n",
       "      <td>16848901</td>\n",
       "      <td>17209792.5</td>\n",
       "    </tr>\n",
       "    <tr>\n",
       "      <th>1</th>\n",
       "      <td>ither</td>\n",
       "      <td>0.08</td>\n",
       "      <td>er</td>\n",
       "      <td>he</td>\n",
       "      <td>it</td>\n",
       "      <td>th</td>\n",
       "      <td>12934901</td>\n",
       "      <td>21484684</td>\n",
       "      <td>6637233</td>\n",
       "      <td>22288309.0</td>\n",
       "      <td>15836281</td>\n",
       "      <td>17209792.5</td>\n",
       "    </tr>\n",
       "    <tr>\n",
       "      <th>2</th>\n",
       "      <td>Uther</td>\n",
       "      <td>1.06</td>\n",
       "      <td>er</td>\n",
       "      <td>he</td>\n",
       "      <td>th</td>\n",
       "      <td>ut</td>\n",
       "      <td>12934901</td>\n",
       "      <td>21484684</td>\n",
       "      <td>22288309</td>\n",
       "      <td>3257233.0</td>\n",
       "      <td>14991281</td>\n",
       "      <td>17209792.5</td>\n",
       "    </tr>\n",
       "    <tr>\n",
       "      <th>3</th>\n",
       "      <td>other</td>\n",
       "      <td>735.39</td>\n",
       "      <td>er</td>\n",
       "      <td>he</td>\n",
       "      <td>ot</td>\n",
       "      <td>th</td>\n",
       "      <td>12934901</td>\n",
       "      <td>21484684</td>\n",
       "      <td>2906507</td>\n",
       "      <td>22288309.0</td>\n",
       "      <td>14903600</td>\n",
       "      <td>17209792.5</td>\n",
       "    </tr>\n",
       "    <tr>\n",
       "      <th>4</th>\n",
       "      <td>ether</td>\n",
       "      <td>2.12</td>\n",
       "      <td>er</td>\n",
       "      <td>et</td>\n",
       "      <td>he</td>\n",
       "      <td>th</td>\n",
       "      <td>12934901</td>\n",
       "      <td>2499226</td>\n",
       "      <td>21484684</td>\n",
       "      <td>22288309.0</td>\n",
       "      <td>14801780</td>\n",
       "      <td>17209792.5</td>\n",
       "    </tr>\n",
       "    <tr>\n",
       "      <th>...</th>\n",
       "      <td>...</td>\n",
       "      <td>...</td>\n",
       "      <td>...</td>\n",
       "      <td>...</td>\n",
       "      <td>...</td>\n",
       "      <td>...</td>\n",
       "      <td>...</td>\n",
       "      <td>...</td>\n",
       "      <td>...</td>\n",
       "      <td>...</td>\n",
       "      <td>...</td>\n",
       "      <td>...</td>\n",
       "    </tr>\n",
       "    <tr>\n",
       "      <th>6773</th>\n",
       "      <td>pukka</td>\n",
       "      <td>0.08</td>\n",
       "      <td>ka</td>\n",
       "      <td>kk</td>\n",
       "      <td>pu</td>\n",
       "      <td>uk</td>\n",
       "      <td>60568</td>\n",
       "      <td>1820</td>\n",
       "      <td>514720</td>\n",
       "      <td>33610.0</td>\n",
       "      <td>152679</td>\n",
       "      <td>47089.0</td>\n",
       "    </tr>\n",
       "    <tr>\n",
       "      <th>6774</th>\n",
       "      <td>Gypsy</td>\n",
       "      <td>6.63</td>\n",
       "      <td>gy</td>\n",
       "      <td>ps</td>\n",
       "      <td>sy</td>\n",
       "      <td>yp</td>\n",
       "      <td>52572</td>\n",
       "      <td>271689</td>\n",
       "      <td>160250</td>\n",
       "      <td>45202.0</td>\n",
       "      <td>132428</td>\n",
       "      <td>106411.0</td>\n",
       "    </tr>\n",
       "    <tr>\n",
       "      <th>6775</th>\n",
       "      <td>Kudzu</td>\n",
       "      <td>0.10</td>\n",
       "      <td>dz</td>\n",
       "      <td>ku</td>\n",
       "      <td>ud</td>\n",
       "      <td>zu</td>\n",
       "      <td>388</td>\n",
       "      <td>8936</td>\n",
       "      <td>458716</td>\n",
       "      <td>5050.0</td>\n",
       "      <td>118272</td>\n",
       "      <td>6993.0</td>\n",
       "    </tr>\n",
       "    <tr>\n",
       "      <th>6776</th>\n",
       "      <td>jazzy</td>\n",
       "      <td>0.49</td>\n",
       "      <td>az</td>\n",
       "      <td>ja</td>\n",
       "      <td>zy</td>\n",
       "      <td>zz</td>\n",
       "      <td>90138</td>\n",
       "      <td>40073</td>\n",
       "      <td>10486</td>\n",
       "      <td>27727.0</td>\n",
       "      <td>42106</td>\n",
       "      <td>33900.0</td>\n",
       "    </tr>\n",
       "    <tr>\n",
       "      <th>6777</th>\n",
       "      <td>Wuzzy</td>\n",
       "      <td>0.43</td>\n",
       "      <td>uz</td>\n",
       "      <td>wu</td>\n",
       "      <td>zy</td>\n",
       "      <td>zz</td>\n",
       "      <td>19836</td>\n",
       "      <td>9358</td>\n",
       "      <td>10486</td>\n",
       "      <td>27727.0</td>\n",
       "      <td>16851</td>\n",
       "      <td>15161.0</td>\n",
       "    </tr>\n",
       "  </tbody>\n",
       "</table>\n",
       "<p>6778 rows × 12 columns</p>\n",
       "</div>"
      ],
      "text/plain": [
       "       Word  SUBTLWF bi1 bi2 bi3 bi4       bf1       bf2       bf3  \\\n",
       "0     there  4348.12  er  he  re  th  12934901  21484684  10687711   \n",
       "1     ither     0.08  er  he  it  th  12934901  21484684   6637233   \n",
       "2     Uther     1.06  er  he  th  ut  12934901  21484684  22288309   \n",
       "3     other   735.39  er  he  ot  th  12934901  21484684   2906507   \n",
       "4     ether     2.12  er  et  he  th  12934901   2499226  21484684   \n",
       "...     ...      ...  ..  ..  ..  ..       ...       ...       ...   \n",
       "6773  pukka     0.08  ka  kk  pu  uk     60568      1820    514720   \n",
       "6774  Gypsy     6.63  gy  ps  sy  yp     52572    271689    160250   \n",
       "6775  Kudzu     0.10  dz  ku  ud  zu       388      8936    458716   \n",
       "6776  jazzy     0.49  az  ja  zy  zz     90138     40073     10486   \n",
       "6777  Wuzzy     0.43  uz  wu  zy  zz     19836      9358     10486   \n",
       "\n",
       "             bf4  average bf   median bf  \n",
       "0     22288309.0    16848901  17209792.5  \n",
       "1     22288309.0    15836281  17209792.5  \n",
       "2      3257233.0    14991281  17209792.5  \n",
       "3     22288309.0    14903600  17209792.5  \n",
       "4     22288309.0    14801780  17209792.5  \n",
       "...          ...         ...         ...  \n",
       "6773     33610.0      152679     47089.0  \n",
       "6774     45202.0      132428    106411.0  \n",
       "6775      5050.0      118272      6993.0  \n",
       "6776     27727.0       42106     33900.0  \n",
       "6777     27727.0       16851     15161.0  \n",
       "\n",
       "[6778 rows x 12 columns]"
      ]
     },
     "execution_count": 10,
     "metadata": {},
     "output_type": "execute_result"
    }
   ],
   "source": [
    "# combining all info into one data frame\n",
    "all_info = pd.concat([fivewf, biw, bf_byword, bf_avg, bf_med], axis=1)\n",
    "\n",
    "# data sorted by average bigram frequency (highest to lowest)\n",
    "sorted_all = (all_info.sort_values(by='average bf', ascending=False)).reset_index(drop=True)\n",
    "sorted_all"
   ]
  },
  {
   "cell_type": "code",
   "execution_count": 11,
   "metadata": {},
   "outputs": [],
   "source": [
    "### Filtering to select words to go in each word/bigram category\n",
    "\n",
    "### NOTE: useful for displaying entire dataframe\n",
    "# with pd.option_context('display.max_rows', None, 'display.max_columns', None):  # more options can also be specified\n",
    "#     print(medbf_sorted)"
   ]
  },
  {
   "cell_type": "code",
   "execution_count": 12,
   "metadata": {},
   "outputs": [],
   "source": [
    "# sample words with highest average bigram freq\n",
    "hibf_words = sorted_all[sorted_all['average bf'] > 10000000]"
   ]
  },
  {
   "cell_type": "code",
   "execution_count": 13,
   "metadata": {},
   "outputs": [],
   "source": [
    "##  sort by word frequency\n",
    "hibf_sorted = hibf_words.sort_values(by='SUBTLWF', ascending=False).reset_index(drop=True)\n",
    "\n",
    "## Selected words\n",
    "# Most familiar : there, think -- highest values for both word freq and average bf\n",
    "# Semi familiar : cheer, theme -- closest word freq to mean with high average bf\n",
    "# Un familiar : tithe, therm -- highest average bf values with lowest word freq values"
   ]
  },
  {
   "cell_type": "code",
   "execution_count": 14,
   "metadata": {},
   "outputs": [],
   "source": [
    "# sample of words with medium average bigram freq, based on mean average bigram freq\n",
    "medbf_words = sorted_all[sorted_all['average bf'].between(3200000, 3500000)]"
   ]
  },
  {
   "cell_type": "code",
   "execution_count": 15,
   "metadata": {},
   "outputs": [],
   "source": [
    "medbf_sorted_oldindex = medbf_words.sort_values(by='SUBTLWF', ascending=False)\n",
    "medbf_sorted = medbf_sorted_oldindex.reset_index(drop=True)\n",
    "\n",
    "# Selected words:\n",
    "# Most familiar: about, would -- closest average bf to mean with the highest word freq value\n",
    "# Semi familar: belly, champ -- closest average bf to mean with closest word freq to mean\n",
    "# Un familiar: haole, cooed -- closest average bf to mean with the lowest word freq value"
   ]
  },
  {
   "cell_type": "code",
   "execution_count": 16,
   "metadata": {},
   "outputs": [],
   "source": [
    "# sample of words with low average bigram freq\n",
    "lowbf_words = sorted_all[sorted_all['average bf'] < 800000]\n",
    "# lowbf_words"
   ]
  },
  {
   "cell_type": "code",
   "execution_count": 17,
   "metadata": {},
   "outputs": [],
   "source": [
    "lowbf_sorted = (lowbf_words.sort_values(by='SUBTLWF', ascending=False)).reset_index(drop=True)\n",
    "# lowbf_sorted\n",
    "\n",
    "# Words I selected\n",
    "# Most familiar: lucky, buddy -- lowest average bf with word freqs in the triple digits\n",
    "# Semi familar: puppy, vodka -- closest word freq to mean with low average bf\n",
    "# Un familiar: faqir, druze -- lowest word freq with low average bf"
   ]
  },
  {
   "cell_type": "code",
   "execution_count": 18,
   "metadata": {},
   "outputs": [],
   "source": [
    "### Determining frequency variables of pseudo words to select strings for each bf category\n",
    "\n",
    "pseudo_array = ['edthe', 'heond', 'kremp', 'vanru', 'zibja', 'pykka']\n",
    "\n",
    "# creating dataframe of bigram freqs in each word\n",
    "pw = pd.DataFrame(pseudo_array, columns=['Word']) # pw == pseudo words\n",
    "\n",
    "# determining bigrams present in each word\n",
    "bi_results = []\n",
    "for x in pseudo_array:\n",
    "    word = str(x).lower()\n",
    "    bigrams_in_word = []\n",
    "    for y in bf['Bigrams']:\n",
    "        if y in word:\n",
    "            bigrams_in_word.append(y)\n",
    "    bi_results.append(bigrams_in_word)\n",
    "    \n",
    "# creating dataframe of bigrams in each word\n",
    "biw = pd.DataFrame(bi_results, columns=['bi1', 'bi2', 'bi3', 'bi4']) # biw == bigrams in word\n",
    "\n",
    "# determining frequency of bigrams present in each word\n",
    "bf_results = []\n",
    "for x in bi_results:\n",
    "    bigram_freqs = []\n",
    "    for y in bf['Bigrams']:\n",
    "        if y in x:\n",
    "            loc = bf.loc[bf['Bigrams']==y].index[0]\n",
    "            bigram_freqs.append(bf.Frequency[loc])\n",
    "    bf_results.append(bigram_freqs)\n",
    "    \n",
    "# creating dataframe of bigram freqs in each word\n",
    "bf_byword = pd.DataFrame(bf_results, columns=['bf1', 'bf2', 'bf3', 'bf4'])\n",
    "\n",
    "# find bigram frequency average for each word\n",
    "avg_freq = []\n",
    "for x in bf_results:\n",
    "    avg_freq.append(st.mean(x))\n",
    "    \n",
    "# creating dataframe of average bigram freq for each word\n",
    "bf_avg = pd.DataFrame(avg_freq, columns=['average bf'])"
   ]
  },
  {
   "cell_type": "code",
   "execution_count": 19,
   "metadata": {},
   "outputs": [
    {
     "data": {
      "text/html": [
       "<div>\n",
       "<style scoped>\n",
       "    .dataframe tbody tr th:only-of-type {\n",
       "        vertical-align: middle;\n",
       "    }\n",
       "\n",
       "    .dataframe tbody tr th {\n",
       "        vertical-align: top;\n",
       "    }\n",
       "\n",
       "    .dataframe thead th {\n",
       "        text-align: right;\n",
       "    }\n",
       "</style>\n",
       "<table border=\"1\" class=\"dataframe\">\n",
       "  <thead>\n",
       "    <tr style=\"text-align: right;\">\n",
       "      <th></th>\n",
       "      <th>Word</th>\n",
       "      <th>bi1</th>\n",
       "      <th>bi2</th>\n",
       "      <th>bi3</th>\n",
       "      <th>bi4</th>\n",
       "      <th>bf1</th>\n",
       "      <th>bf2</th>\n",
       "      <th>bf3</th>\n",
       "      <th>bf4</th>\n",
       "      <th>average bf</th>\n",
       "    </tr>\n",
       "  </thead>\n",
       "  <tbody>\n",
       "    <tr>\n",
       "      <th>0</th>\n",
       "      <td>edthe</td>\n",
       "      <td>dt</td>\n",
       "      <td>ed</td>\n",
       "      <td>he</td>\n",
       "      <td>th</td>\n",
       "      <td>11191</td>\n",
       "      <td>7805967</td>\n",
       "      <td>21484684</td>\n",
       "      <td>22288309</td>\n",
       "      <td>12897537</td>\n",
       "    </tr>\n",
       "    <tr>\n",
       "      <th>1</th>\n",
       "      <td>heond</td>\n",
       "      <td>eo</td>\n",
       "      <td>he</td>\n",
       "      <td>nd</td>\n",
       "      <td>on</td>\n",
       "      <td>305120</td>\n",
       "      <td>21484684</td>\n",
       "      <td>9414961</td>\n",
       "      <td>8830487</td>\n",
       "      <td>10008813</td>\n",
       "    </tr>\n",
       "    <tr>\n",
       "      <th>2</th>\n",
       "      <td>kremp</td>\n",
       "      <td>em</td>\n",
       "      <td>kr</td>\n",
       "      <td>mp</td>\n",
       "      <td>re</td>\n",
       "      <td>2039661</td>\n",
       "      <td>5683</td>\n",
       "      <td>1042198</td>\n",
       "      <td>10687711</td>\n",
       "      <td>3443813</td>\n",
       "    </tr>\n",
       "    <tr>\n",
       "      <th>3</th>\n",
       "      <td>vanru</td>\n",
       "      <td>an</td>\n",
       "      <td>nr</td>\n",
       "      <td>ru</td>\n",
       "      <td>va</td>\n",
       "      <td>12315713</td>\n",
       "      <td>54341</td>\n",
       "      <td>705492</td>\n",
       "      <td>560130</td>\n",
       "      <td>3408919</td>\n",
       "    </tr>\n",
       "    <tr>\n",
       "      <th>4</th>\n",
       "      <td>zibja</td>\n",
       "      <td>bj</td>\n",
       "      <td>ib</td>\n",
       "      <td>ja</td>\n",
       "      <td>zi</td>\n",
       "      <td>105433</td>\n",
       "      <td>493267</td>\n",
       "      <td>40073</td>\n",
       "      <td>54565</td>\n",
       "      <td>173334</td>\n",
       "    </tr>\n",
       "    <tr>\n",
       "      <th>5</th>\n",
       "      <td>pykka</td>\n",
       "      <td>ka</td>\n",
       "      <td>kk</td>\n",
       "      <td>py</td>\n",
       "      <td>yk</td>\n",
       "      <td>60568</td>\n",
       "      <td>1820</td>\n",
       "      <td>149099</td>\n",
       "      <td>4767</td>\n",
       "      <td>54063</td>\n",
       "    </tr>\n",
       "  </tbody>\n",
       "</table>\n",
       "</div>"
      ],
      "text/plain": [
       "    Word bi1 bi2 bi3 bi4       bf1       bf2       bf3       bf4  average bf\n",
       "0  edthe  dt  ed  he  th     11191   7805967  21484684  22288309    12897537\n",
       "1  heond  eo  he  nd  on    305120  21484684   9414961   8830487    10008813\n",
       "2  kremp  em  kr  mp  re   2039661      5683   1042198  10687711     3443813\n",
       "3  vanru  an  nr  ru  va  12315713     54341    705492    560130     3408919\n",
       "4  zibja  bj  ib  ja  zi    105433    493267     40073     54565      173334\n",
       "5  pykka  ka  kk  py  yk     60568      1820    149099      4767       54063"
      ]
     },
     "execution_count": 19,
     "metadata": {},
     "output_type": "execute_result"
    }
   ],
   "source": [
    "# combining all info into one data frame\n",
    "pseudo_info = pd.concat([pw, biw, bf_byword, bf_avg], axis=1)\n",
    "pseudo_info\n",
    "\n",
    "# Words I selected\n",
    "# High bigram freq: edthe, heond -- above cutoff used for high avg bf in previous cell\n",
    "# Medium bigram freq: kremp, vanru  -- closest to average bf mean (3398019.67)\n",
    "# Low bigram freq: zibja, pykka -- significantly below cutoff used for low avg bf in previous cell\n",
    "\n",
    "## Note: vanru replaced isvar -- isvar is a commonly used function in MATLAB"
   ]
  },
  {
   "cell_type": "code",
   "execution_count": 20,
   "metadata": {},
   "outputs": [],
   "source": [
    "# making dataframe of only chosen string data\n",
    "string_list = ['there', 'think', 'about', 'would', 'lucky', 'buddy',\n",
    "          'cheer', 'theme', 'belly', 'champ', 'puppy', 'vodka',\n",
    "          'tithe', 'therm', 'haole', 'cooed', 'faqir', 'Druze',\n",
    "          'edthe', 'heond', 'kremp', 'vanru', 'zibja', 'pykka']\n",
    "\n",
    "word_info = sorted_all.query(\"Word in @string_list\")\n",
    "chosen_strings = (pd.concat([word_info, pseudo_info])).reset_index(drop=True)"
   ]
  },
  {
   "cell_type": "code",
   "execution_count": 21,
   "metadata": {},
   "outputs": [],
   "source": [
    "# making list of all bigrams in selected words (no repeats)\n",
    "cols = ['bi1', 'bi2', 'bi3', 'bi4']\n",
    "\n",
    "temp_bigrams = (chosen_strings[cols].values.tolist())\n",
    "chosen_bigrams = list(set([x for sublist in temp_bigrams for x in sublist]))"
   ]
  },
  {
   "cell_type": "code",
   "execution_count": 22,
   "metadata": {},
   "outputs": [],
   "source": [
    "alphabet = ['a', 'b', 'c', 'd', 'e', 'f', 'g', 'h', 'i', 'j', 'k', 'l', 'm', 'n', 'o', \n",
    "            'p', 'q', 'r', 's', 't', 'u', 'v', 'w', 'x', 'y', 'z']\n",
    "\n",
    "## defining function to make nonsense word with avg bf == value of interest (didn't work - never generated usable strings in a reasonable amount of time)\n",
    "def make_pseudo(bf_avg):\n",
    "    for i in range(0, 1000000):\n",
    "        pseudos_byavg = []\n",
    "        letters = ran.sample(alphabet, k=5)\n",
    "        word = ''.join(letters)\n",
    "        bigrams_in_word = []\n",
    "        for y in bf['Bigrams']:\n",
    "            if y in word:\n",
    "                bigrams_in_word.append(y)\n",
    "        bigram_freqs = []\n",
    "        for x in bigrams_in_word:\n",
    "            for y in bf['Bigrams']:\n",
    "                if y in x:\n",
    "                    loc = bf.loc[bf['Bigrams']==y].index[0]\n",
    "                    bigram_freqs.append(bf.Frequency[loc])\n",
    "        avg_bf = (sum(bigram_freqs)/len(bigram_freqs))\n",
    "        if math.isclose(avg_bf, bf_avg, abs_tol=9999) == True:\n",
    "            pseudos_byavg.append(word)\n",
    "    return pseudos_byavg"
   ]
  },
  {
   "cell_type": "markdown",
   "metadata": {},
   "source": [
    "### Plots and lexicon data that was useful for selecting words"
   ]
  },
  {
   "cell_type": "code",
   "execution_count": 51,
   "metadata": {},
   "outputs": [
    {
     "name": "stdout",
     "output_type": "stream",
     "text": [
      "SUBTLWF median and mean:\n",
      "0.47\n",
      "15.142115668338745\n",
      "Avg. bigram freq. median and mean:\n",
      "3070789.0\n",
      "3398019.6708468576\n",
      "Bigram freq. median and mean:\n",
      "51669.0\n",
      "864722.4511834319\n"
     ]
    }
   ],
   "source": [
    "# WF, Avg. BF, and BF medians and means\n",
    "print('SUBTLWF median and mean:')\n",
    "print(sorted_all['SUBTLWF'].median())\n",
    "print(sorted_all['SUBTLWF'].mean())\n",
    "\n",
    "print('Avg. bigram freq. median and mean:')\n",
    "print(sorted_all['average bf'].median())\n",
    "print(sorted_all['average bf'].mean())\n",
    "\n",
    "print('Bigram freq. median and mean:')\n",
    "print(bf['Frequency'].median())\n",
    "print(bf['Frequency'].mean())"
   ]
  },
  {
   "cell_type": "code",
   "execution_count": 36,
   "metadata": {},
   "outputs": [
    {
     "data": {
      "text/plain": [
       "<matplotlib.lines.Line2D at 0x14fd39880>"
      ]
     },
     "execution_count": 36,
     "metadata": {},
     "output_type": "execute_result"
    },
    {
     "data": {
      "image/png": "[encoded data removed]",
      "text/plain": [
       "<Figure size 640x480 with 1 Axes>"
      ]
     },
     "metadata": {},
     "output_type": "display_data"
    }
   ],
   "source": [
    "# plot of all words by average bigram freq\n",
    "sorted_all.plot(x='Word', y='average bf', style='o')\n",
    "## adding lines at defined cutoff points\n",
    "plt.axhline(y=8e5, color='red', linestyle='--')\n",
    "plt.axhline(y=3398019, color='black', linestyle='--')\n",
    "plt.axhline(y=1e7, color='green', linestyle='--')"
   ]
  },
  {
   "cell_type": "code",
   "execution_count": 25,
   "metadata": {},
   "outputs": [
    {
     "data": {
      "text/plain": [
       "<Axes: xlabel='Word'>"
      ]
     },
     "execution_count": 25,
     "metadata": {},
     "output_type": "execute_result"
    },
    {
     "data": {
      "image/png": "[encoded data removed]",
      "text/plain": [
       "<Figure size 640x480 with 1 Axes>"
      ]
     },
     "metadata": {},
     "output_type": "display_data"
    }
   ],
   "source": [
    "# plot of all words by median bigram freq\n",
    "sorted_all.plot(x='Word', y='median bf', style='o')"
   ]
  },
  {
   "cell_type": "code",
   "execution_count": 37,
   "metadata": {},
   "outputs": [
    {
     "data": {
      "text/plain": [
       "<matplotlib.lines.Line2D at 0x14fea23c0>"
      ]
     },
     "execution_count": 37,
     "metadata": {},
     "output_type": "execute_result"
    },
    {
     "data": {
      "image/png": "[encoded data removed]",
      "text/plain": [
       "<Figure size 640x480 with 1 Axes>"
      ]
     },
     "metadata": {},
     "output_type": "display_data"
    }
   ],
   "source": [
    "# histogram of average bigram freq\n",
    "sorted_all.hist(column='average bf', bins=200)\n",
    "## adding lines at defined cutoff points\n",
    "plt.axvline(x=8e5, color='red', linestyle='--')\n",
    "plt.axvline(x=3398019, color='black', linestyle='--') # mean average bg freq.\n",
    "plt.axvline(x=1e7, color='green', linestyle='--')"
   ]
  },
  {
   "cell_type": "code",
   "execution_count": 28,
   "metadata": {},
   "outputs": [
    {
     "data": {
      "text/plain": [
       "array([[<Axes: title={'center': 'SUBTLWF'}>]], dtype=object)"
      ]
     },
     "execution_count": 28,
     "metadata": {},
     "output_type": "execute_result"
    },
    {
     "data": {
      "image/png": "[encoded data removed]",
      "text/plain": [
       "<Figure size 640x480 with 1 Axes>"
      ]
     },
     "metadata": {},
     "output_type": "display_data"
    }
   ],
   "source": [
    "# histogram of word freq\n",
    "sorted_all.hist(column='SUBTLWF', bins=200)"
   ]
  },
  {
   "cell_type": "code",
   "execution_count": 30,
   "metadata": {},
   "outputs": [
    {
     "data": {
      "text/html": [
       "<div>\n",
       "<style scoped>\n",
       "    .dataframe tbody tr th:only-of-type {\n",
       "        vertical-align: middle;\n",
       "    }\n",
       "\n",
       "    .dataframe tbody tr th {\n",
       "        vertical-align: top;\n",
       "    }\n",
       "\n",
       "    .dataframe thead th {\n",
       "        text-align: right;\n",
       "    }\n",
       "</style>\n",
       "<table border=\"1\" class=\"dataframe\">\n",
       "  <thead>\n",
       "    <tr style=\"text-align: right;\">\n",
       "      <th></th>\n",
       "      <th>Bigrams</th>\n",
       "      <th>Frequency</th>\n",
       "    </tr>\n",
       "  </thead>\n",
       "  <tbody>\n",
       "    <tr>\n",
       "      <th>0</th>\n",
       "      <td>th</td>\n",
       "      <td>22288309</td>\n",
       "    </tr>\n",
       "    <tr>\n",
       "      <th>1</th>\n",
       "      <td>he</td>\n",
       "      <td>21484684</td>\n",
       "    </tr>\n",
       "    <tr>\n",
       "      <th>2</th>\n",
       "      <td>in</td>\n",
       "      <td>13597302</td>\n",
       "    </tr>\n",
       "    <tr>\n",
       "      <th>3</th>\n",
       "      <td>er</td>\n",
       "      <td>12934901</td>\n",
       "    </tr>\n",
       "    <tr>\n",
       "      <th>4</th>\n",
       "      <td>an</td>\n",
       "      <td>12315713</td>\n",
       "    </tr>\n",
       "    <tr>\n",
       "      <th>...</th>\n",
       "      <td>...</td>\n",
       "      <td>...</td>\n",
       "    </tr>\n",
       "    <tr>\n",
       "      <th>671</th>\n",
       "      <td>qg</td>\n",
       "      <td>1</td>\n",
       "    </tr>\n",
       "    <tr>\n",
       "      <th>672</th>\n",
       "      <td>qp</td>\n",
       "      <td>0</td>\n",
       "    </tr>\n",
       "    <tr>\n",
       "      <th>673</th>\n",
       "      <td>qk</td>\n",
       "      <td>0</td>\n",
       "    </tr>\n",
       "    <tr>\n",
       "      <th>674</th>\n",
       "      <td>qj</td>\n",
       "      <td>0</td>\n",
       "    </tr>\n",
       "    <tr>\n",
       "      <th>675</th>\n",
       "      <td>jq</td>\n",
       "      <td>0</td>\n",
       "    </tr>\n",
       "  </tbody>\n",
       "</table>\n",
       "<p>676 rows × 2 columns</p>\n",
       "</div>"
      ],
      "text/plain": [
       "    Bigrams  Frequency\n",
       "0        th   22288309\n",
       "1        he   21484684\n",
       "2        in   13597302\n",
       "3        er   12934901\n",
       "4        an   12315713\n",
       "..      ...        ...\n",
       "671      qg          1\n",
       "672      qp          0\n",
       "673      qk          0\n",
       "674      qj          0\n",
       "675      jq          0\n",
       "\n",
       "[676 rows x 2 columns]"
      ]
     },
     "execution_count": 30,
     "metadata": {},
     "output_type": "execute_result"
    }
   ],
   "source": [
    "# bigrams sorted by freq (highest to lowest)\n",
    "sorted_bf = bf.sort_values(by='Frequency', ascending=False, ignore_index=True)\n",
    "sorted_bf"
   ]
  },
  {
   "cell_type": "code",
   "execution_count": 54,
   "metadata": {},
   "outputs": [],
   "source": [
    "# chosen bigrams with frequencies\n",
    "chosen_byfreq = []\n",
    "for bg in chosen_bigrams:\n",
    "    for index, data in bf.iterrows():\n",
    "        if bf['Bigrams'][index] == bg:\n",
    "            chosen_byfreq.append(bf.iloc[index, :])\n",
    "            \n",
    "            \n",
    "# chosen_byfreq.to_csv('bg_freqs.csv')\n",
    "chosen_byfreq = pd.DataFrame(chosen_byfreq).reset_index(drop=True)\n",
    "chosen_bigrams_sorted = chosen_byfreq.sort_values('Frequency', \n",
    "                                                  ascending=False).reset_index(drop=True)"
   ]
  },
  {
   "cell_type": "code",
   "execution_count": 55,
   "metadata": {},
   "outputs": [
    {
     "data": {
      "text/plain": [
       "<Axes: xlabel='Bigrams'>"
      ]
     },
     "execution_count": 55,
     "metadata": {},
     "output_type": "execute_result"
    },
    {
     "data": {
      "image/png": "[encoded data removed]",
      "text/plain": [
       "<Figure size 640x480 with 1 Axes>"
      ]
     },
     "metadata": {},
     "output_type": "display_data"
    }
   ],
   "source": [
    "# All bigrams plotted by frequency\n",
    "sorted_bf.plot(x='Bigrams', y='Frequency', style='o')"
   ]
  },
  {
   "cell_type": "code",
   "execution_count": 56,
   "metadata": {},
   "outputs": [
    {
     "data": {
      "text/plain": [
       "<Axes: xlabel='Bigrams'>"
      ]
     },
     "execution_count": 56,
     "metadata": {},
     "output_type": "execute_result"
    },
    {
     "data": {
      "image/png": "[encoded data removed]",
      "text/plain": [
       "<Figure size 640x480 with 1 Axes>"
      ]
     },
     "metadata": {},
     "output_type": "display_data"
    }
   ],
   "source": [
    "# chosen bigrams plotted by freq.\n",
    "chosen_bigrams_sorted.plot(x='Bigrams', y='Frequency', style='o')"
   ]
  },
  {
   "cell_type": "code",
   "execution_count": 43,
   "metadata": {},
   "outputs": [
    {
     "data": {
      "text/plain": [
       "array([[<Axes: title={'center': 'Frequency'}>]], dtype=object)"
      ]
     },
     "execution_count": 43,
     "metadata": {},
     "output_type": "execute_result"
    },
    {
     "data": {
      "image/png": "[encoded data removed]",
      "text/plain": [
       "<Figure size 640x480 with 1 Axes>"
      ]
     },
     "metadata": {},
     "output_type": "display_data"
    }
   ],
   "source": [
    "# histogram of bigrams sorted by frequency\n",
    "sorted_bf.hist(column='Frequency', bins=200)"
   ]
  },
  {
   "cell_type": "code",
   "execution_count": 46,
   "metadata": {},
   "outputs": [],
   "source": [
    "# useful for filtering ## wf.set_index('Word').filter(like=x, axis=0)  "
   ]
  }
 ],
 "metadata": {
  "kernelspec": {
   "display_name": "Python 3 (ipykernel)",
   "language": "python",
   "name": "python3"
  },
  "language_info": {
   "codemirror_mode": {
    "name": "ipython",
    "version": 3
   },
   "file_extension": ".py",
   "mimetype": "text/x-python",
   "name": "python",
   "nbconvert_exporter": "python",
   "pygments_lexer": "ipython3",
   "version": "3.12.3"
  }
 },
 "nbformat": 4,
 "nbformat_minor": 4
}
