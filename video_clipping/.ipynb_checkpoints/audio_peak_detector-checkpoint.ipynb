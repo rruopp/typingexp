{
 "cells": [
  {
   "cell_type": "code",
   "execution_count": 1,
   "id": "a3b62946",
   "metadata": {},
   "outputs": [
    {
     "ename": "ModuleNotFoundError",
     "evalue": "No module named 'moviepy'",
     "output_type": "error",
     "traceback": [
      "\u001b[0;31m---------------------------------------------------------------------------\u001b[0m",
      "\u001b[0;31mModuleNotFoundError\u001b[0m                       Traceback (most recent call last)",
      "Cell \u001b[0;32mIn[1], line 1\u001b[0m\n\u001b[0;32m----> 1\u001b[0m \u001b[38;5;28;01mimport\u001b[39;00m \u001b[38;5;21;01mmoviepy\u001b[39;00m\u001b[38;5;21;01m.\u001b[39;00m\u001b[38;5;21;01meditor\u001b[39;00m \u001b[38;5;28;01mas\u001b[39;00m \u001b[38;5;21;01mmp\u001b[39;00m\n\u001b[1;32m      2\u001b[0m \u001b[38;5;28;01mimport\u001b[39;00m \u001b[38;5;21;01mnumpy\u001b[39;00m \u001b[38;5;28;01mas\u001b[39;00m \u001b[38;5;21;01mnp\u001b[39;00m\n\u001b[1;32m      3\u001b[0m \u001b[38;5;28;01mimport\u001b[39;00m \u001b[38;5;21;01mmatplotlib\u001b[39;00m \u001b[38;5;28;01mas\u001b[39;00m \u001b[38;5;21;01mmpl\u001b[39;00m\n",
      "\u001b[0;31mModuleNotFoundError\u001b[0m: No module named 'moviepy'"
     ]
    }
   ],
   "source": [
    "import moviepy.editor as mp\n",
    "import numpy as np\n",
    "import matplotlib as mpl\n",
    "import matplotlib.pyplot as plt\n",
    "import scipy.signal\n",
    "import wave, sys\n",
    "import audio2numpy as a2n\n",
    "from audio2numpy import open_audio\n",
    "from scipy.fft import fft, ifft\n",
    "from scipy.io import wavfile\n",
    "from scipy.io.wavfile import read\n",
    "import scipy.io\n",
    "from pydub import AudioSegment\n",
    "import pandas as pd\n",
    "import os\n",
    "import ffmpeg"
   ]
  },
  {
   "cell_type": "code",
   "execution_count": null,
   "id": "0770e489-4537-4d41-a105-48232bb4f49e",
   "metadata": {},
   "outputs": [],
   "source": [
    "### Define all video paths and file titles\n",
    "\n",
    "owd = os.getcwd()\n",
    "raw_video_dir = r'\\Users\\greenhouselab\\Documents\\Rubi\\typingtask_data\\pilot_data\\p08_marygach_08022022\\task_video\\right\\raw' ## change as needed\n",
    "save_dir = r'\\Users\\greenhouselab\\Documents\\Rubi\\typingtask_data\\pilot_data\\p08_marygach_08022022\\task_video\\right\\edited' ## change as needed\n",
    "whole_video_name = r'p08_08022022_right_wholetask.mp4' ## change to match task subject, date, and camera view\n",
    "all_clips_name = r'p08_08022022_right_allclips.mp4'\n",
    "audio_name = r'p08_08022022_right.wav' ## change to match task subject, date, and camera view\n",
    "video_prefix = 'p08_08022022_right'\n",
    "os.chdir(save_dir)\n",
    "\n"
   ]
  },
  {
   "cell_type": "code",
   "execution_count": null,
   "id": "367c10d0-212d-4a44-af34-f31bf933e1b2",
   "metadata": {
    "tags": []
   },
   "outputs": [],
   "source": [
    "### concatenating all go-pro videos of interest into one\n",
    "f = open('video_path_file.txt', 'w')\n",
    "for filename in os.scandir(raw_video_dir):\n",
    "    if filename.is_file():\n",
    "        f.write('file \\'' + filename.path + '\\'')\n",
    "        f.write('\\n')\n",
    "f.close()\n",
    "\n",
    "concatenate = 'ffmpeg -f concat -safe 0 -i video_path_file.txt -c copy %s'  % (whole_video_name)\n",
    "os.system(concatenate) ## output of 0 means it worked :) "
   ]
  },
  {
   "cell_type": "code",
   "execution_count": null,
   "id": "14efbe63",
   "metadata": {},
   "outputs": [],
   "source": [
    "### importing whole task video into moviepy format\n",
    "video_dir = save_dir + '\\\\' + whole_video_name\n",
    "video = mp.VideoFileClip(video_dir)"
   ]
  },
  {
   "cell_type": "code",
   "execution_count": null,
   "id": "0105c48b",
   "metadata": {},
   "outputs": [],
   "source": [
    "### extracting audio file from video\n",
    "audio = video.audio.write_audiofile(audio_name)"
   ]
  },
  {
   "cell_type": "code",
   "execution_count": null,
   "id": "21194eaa",
   "metadata": {},
   "outputs": [],
   "source": [
    "### turning stereo audio file to mono\n",
    "audio = AudioSegment.from_wav(audio_name)\n",
    "audio = audio.set_channels(1)\n",
    "audio = audio.export(save_dir + '\\\\' + audio_name, format=\"wav\")"
   ]
  },
  {
   "cell_type": "code",
   "execution_count": null,
   "id": "14ea64bb",
   "metadata": {},
   "outputs": [],
   "source": [
    "### making numpy array from audio file\n",
    "sample_rate, samples = wavfile.read(audio)"
   ]
  },
  {
   "cell_type": "code",
   "execution_count": null,
   "id": "f737ee67",
   "metadata": {},
   "outputs": [],
   "source": [
    "### Plotting sound file\n",
    "plt.rcParams[\"figure.figsize\"] = [100, 20]\n",
    "plt.rcParams[\"figure.autolayout\"] = True\n",
    "input_data = samples\n",
    "plt.plot(input_data)\n",
    "plt.ylabel(\"Amplitude\")\n",
    "plt.xlabel(\"Time\")\n",
    "plt.ylim()\n",
    "plt.xlim()\n",
    "plt.show()"
   ]
  },
  {
   "cell_type": "code",
   "execution_count": null,
   "id": "5d86e2b7",
   "metadata": {},
   "outputs": [],
   "source": [
    "# run peak detection to see if there are 240 peaks here\n",
    "indexes, _ = scipy.signal.find_peaks(samples, height=7, distance=2.1)\n",
    "print('Peaks are: %s' % (indexes))\n",
    "print(len(indexes))"
   ]
  },
  {
   "cell_type": "code",
   "execution_count": null,
   "id": "d334cf73",
   "metadata": {},
   "outputs": [],
   "source": [
    "powerSpectrum, frequenciesFound, time, imageAxis = plt.specgram(samples, Fs=sample_rate)\n",
    "plt.rcParams[\"figure.figsize\"] = [12, 6]\n",
    "plt.xlabel('Time')\n",
    "plt.ylabel('Frequency')\n",
    "plt.ylim(340, 520)\n",
    "plt.show()"
   ]
  },
  {
   "cell_type": "code",
   "execution_count": null,
   "id": "f8a424e8",
   "metadata": {},
   "outputs": [],
   "source": [
    "## need to go through the row that correponds with 440hz (2 and 3 are closest) in powerspectrum, and time stamps of peaks. \n",
    "frequenciesFound"
   ]
  },
  {
   "cell_type": "code",
   "execution_count": null,
   "id": "01b5833e",
   "metadata": {},
   "outputs": [],
   "source": [
    "time[2]"
   ]
  },
  {
   "cell_type": "code",
   "execution_count": null,
   "id": "8b31ff23",
   "metadata": {},
   "outputs": [],
   "source": [
    "powerSpectrum[3]"
   ]
  },
  {
   "cell_type": "code",
   "execution_count": null,
   "id": "32b55744",
   "metadata": {},
   "outputs": [],
   "source": [
    "# def find_beep(freq):\n",
    "#     lowA = pd.()\n",
    "#     for x in freq:\n",
    "#         lowA.append(x)"
   ]
  },
  {
   "cell_type": "code",
   "execution_count": null,
   "id": "dc678a2f",
   "metadata": {
    "tags": []
   },
   "outputs": [],
   "source": [
    "# find_beep(powerSpectrum[3])"
   ]
  },
  {
   "cell_type": "code",
   "execution_count": null,
   "id": "18e8e511-f730-4773-bfb5-7290f5a5325d",
   "metadata": {},
   "outputs": [],
   "source": [
    "## other beep is 523.25Hz\n"
   ]
  },
  {
   "cell_type": "code",
   "execution_count": null,
   "id": "e40af676",
   "metadata": {},
   "outputs": [],
   "source": [
    "lowA = np.array(powerSpectrum[2])\n",
    "# plt.rcParams.update({'font.size': 50})\n",
    "plt.plot(lowA)\n",
    "plt.xlim()\n",
    "plt.ylim()\n",
    "plt.figure(figsize=(120, 20))\n",
    "plt.show()"
   ]
  },
  {
   "cell_type": "code",
   "execution_count": null,
   "id": "f61f85ec",
   "metadata": {},
   "outputs": [],
   "source": [
    "highA = np.array(powerSpectrum[3])\n",
    "plt.plot(highA)\n",
    "# plt.figure(figsize=(120, 20))\n",
    "plt.xlim(0, 35000)\n",
    "plt.ylim()\n",
    "# plt.xticks(np.arange(0, 190000, step=5000))\n",
    "plt.show()"
   ]
  },
  {
   "cell_type": "code",
   "execution_count": null,
   "id": "be2e38a3",
   "metadata": {},
   "outputs": [],
   "source": [
    "indexes, _ = scipy.signal.find_peaks(highA, height=150000, distance=120)\n",
    "len(indexes)"
   ]
  },
  {
   "cell_type": "code",
   "execution_count": null,
   "id": "d015f150-adfd-46eb-8f0e-52eade16ac1b",
   "metadata": {},
   "outputs": [],
   "source": [
    "indexes"
   ]
  },
  {
   "cell_type": "code",
   "execution_count": null,
   "id": "a292ebd9-6bd7-4804-a86e-3c2a6519ed99",
   "metadata": {},
   "outputs": [],
   "source": [
    "np.argwhere(indexes == 491663)"
   ]
  },
  {
   "cell_type": "code",
   "execution_count": null,
   "id": "e7eb8a65-ab8e-4917-8e60-58049e7cb9d6",
   "metadata": {},
   "outputs": [],
   "source": [
    "## deleting unwanted peaks (should only be used for data pre-block indicating beep)\n",
    "indexes = np.delete(indexes, [0, 1, 2])\n",
    "len(indexes) ## length should always be 240"
   ]
  },
  {
   "cell_type": "code",
   "execution_count": null,
   "id": "aa781605",
   "metadata": {},
   "outputs": [],
   "source": [
    "## get time stamps for each peak from 'time' output of spectrogram\n",
    "def find_peak_times(): \n",
    "    peak_times = np.empty(np.shape(indexes))\n",
    "    for idx, x in enumerate(indexes):\n",
    "        stamp = time[x]\n",
    "        peak_times[idx] = stamp\n",
    "    return peak_times"
   ]
  },
  {
   "cell_type": "code",
   "execution_count": null,
   "id": "0bbaae55",
   "metadata": {
    "tags": []
   },
   "outputs": [],
   "source": [
    "cut_times = (find_peak_times()).tolist()\n",
    "len(cut_times) ## should still be 240\n",
    "cut_times"
   ]
  },
  {
   "cell_type": "code",
   "execution_count": null,
   "id": "5de333b8",
   "metadata": {
    "tags": []
   },
   "outputs": [],
   "source": [
    "for idx, cut in enumerate(cut_times):\n",
    "    command = 'ffmpeg -t 3.5 -ss %s -i \"%s\" -y %s_trial_%s.mp4' % (cut, video_dir, video_prefix, idx)\n",
    "    # print(command)\n",
    "    os.system(command)"
   ]
  },
  {
   "cell_type": "code",
   "execution_count": null,
   "id": "4bce9054-a4e3-49b2-b39b-c6936c4a4a3e",
   "metadata": {
    "tags": []
   },
   "outputs": [],
   "source": [
    "### concatenating clipped trial videos into one\n",
    "\n",
    "res = []\n",
    "for file in os.listdir(save_dir):\n",
    "    if file.__contains__('trial'):\n",
    "        res.append(file)\n",
    "print(len(res))\n",
    "\n",
    "f = open('clip_path_file.txt', 'w')\n",
    "for filename in res:\n",
    "        f.write('file \\'' + save_dir + '\\\\' + filename + '\\'')\n",
    "        f.write('\\n')\n",
    "f.close()\n",
    "\n",
    "concatenate = 'ffmpeg -f concat -safe 0 -i clip_path_file.txt -c copy %s'  % (all_clips_name)\n",
    "os.system(concatenate) ## output of 0 means it worked :) "
   ]
  },
  {
   "cell_type": "code",
   "execution_count": null,
   "id": "053193d3-c6b3-45b8-9065-d2350f0bf9dd",
   "metadata": {},
   "outputs": [],
   "source": []
  }
 ],
 "metadata": {
  "kernelspec": {
   "display_name": "Python 3 (ipykernel)",
   "language": "python",
   "name": "python3"
  },
  "language_info": {
   "codemirror_mode": {
    "name": "ipython",
    "version": 3
   },
   "file_extension": ".py",
   "mimetype": "text/x-python",
   "name": "python",
   "nbconvert_exporter": "python",
   "pygments_lexer": "ipython3",
   "version": "3.12.2"
  }
 },
 "nbformat": 4,
 "nbformat_minor": 5
}
